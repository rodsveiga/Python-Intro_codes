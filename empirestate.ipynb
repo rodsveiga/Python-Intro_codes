{
 "cells": [
  {
   "cell_type": "code",
   "execution_count": 47,
   "metadata": {
    "collapsed": true
   },
   "outputs": [],
   "source": [
    "import matplotlib.pyplot as plt\n",
    "import numpy as np\n",
    "np.random.seed(123)\n",
    "\n",
    "N_simulations = 10000\n",
    "N_steps = 100\n",
    "bet_step = 60"
   ]
  },
  {
   "cell_type": "code",
   "execution_count": 48,
   "metadata": {},
   "outputs": [],
   "source": [
    "all_walks = []\n",
    "\n",
    "for i in range(N_simulations):\n",
    "    random_walk = [0]\n",
    "    for j in range(N_steps):\n",
    "        step = random_walk[-1]\n",
    "        dice = np.random.randint(1, 7)\n",
    "        if dice <= 2:\n",
    "            step = max(0, step - 1)\n",
    "        elif dice <= 5:\n",
    "            step = step + 1\n",
    "        else: \n",
    "            step = step + np.random.randint(1, 7)\n",
    "        # Implement clumsiness\n",
    "        if np.random.rand() <= 0.001:\n",
    "            step = 0\n",
    "            \n",
    "        random_walk.append(step)\n",
    "    all_walks.append(random_walk)"
   ]
  },
  {
   "cell_type": "code",
   "execution_count": 49,
   "metadata": {},
   "outputs": [
    {
     "data": {
      "image/png": "[encoded data removed]",
      "text/plain": [
       "<matplotlib.figure.Figure at 0x7f50fa6aa860>"
      ]
     },
     "metadata": {},
     "output_type": "display_data"
    }
   ],
   "source": [
    "np_aw_t = np.transpose(np.array(all_walks))\n",
    "\n",
    "# Select last row from np_aw_t: ends\n",
    "ends = np_aw_t[-1, :]\n",
    "\n",
    "# Plot histogram of ends, display plot\n",
    "plt.hist(ends, bins=30, normed=1)\n",
    "plt.xlabel('Position after %d steps' % N_steps)\n",
    "plt.ylabel('Probability density')\n",
    "plt.title(r'Histogram')\n",
    "plt.show()"
   ]
  },
  {
   "cell_type": "code",
   "execution_count": 50,
   "metadata": {},
   "outputs": [
    {
     "data": {
      "text/plain": [
       "0.7814"
      ]
     },
     "execution_count": 49,
     "metadata": {},
     "output_type": "execute_result"
    }
   ],
   "source": [
    "ends[ends >= bet_step].shape[0] / N_simulations"
   ]
  },
  {
   "cell_type": "code",
   "execution_count": 50,
   "metadata": {},
   "outputs": [
    {
     "data": {
      "text/plain": [
       "0.78139999999999998"
      ]
     },
     "execution_count": 50,
     "metadata": {},
     "output_type": "execute_result"
    }
   ],
   "source": [
    "np.mean(ends >= bet_step)"
   ]
  }
 ],
 "metadata": {
  "kernelspec": {
   "display_name": "Python 2",
   "language": "python",
   "name": "python2"
  },
  "language_info": {
   "codemirror_mode": {
    "name": "ipython",
    "version": 2.0
   },
   "file_extension": ".py",
   "mimetype": "text/x-python",
   "name": "python",
   "nbconvert_exporter": "python",
   "pygments_lexer": "ipython2",
   "version": "2.7.6"
  }
 },
 "nbformat": 4,
 "nbformat_minor": 0
}